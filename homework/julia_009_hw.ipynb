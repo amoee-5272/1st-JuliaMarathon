{
 "cells": [
  {
   "cell_type": "markdown",
   "metadata": {},
   "source": [
    "# 陣列 (Array)\n",
    "\n",
    "## Day 009 作業：比較不同的內建排序演算法\n",
    "\n",
    "除了範例程式示範的 QuickSort 之外，Julia 也內建支援幾種不同的排序演算法：\n",
    "\n",
    "- InsertionSort\n",
    "- PartialQuickSort(k)\n",
    "- MergeSort\n",
    "\n",
    "1. 請閱讀官方文件及範例 [Sorting-Algorithms](https://docs.julialang.org/en/v1/base/sort/#Sorting-Algorithms-1)\n",
    "\n",
    "2. 撰寫程式隨機產生 100000 個 200 到 500 之間的數字來建立陣列，執行不同排序方法，來比較不同排序方法的速度。\n",
    "\n",
    "**[提示]** 排序執行所需時間可以用巨集 `@time` 或 `@elapsed` 來取得。"
   ]
  },
  {
   "cell_type": "code",
   "execution_count": 40,
   "metadata": {},
   "outputs": [
    {
     "data": {
      "text/plain": [
       "100000-element Array{Int64,1}:\n",
       " 492\n",
       " 296\n",
       " 230\n",
       " 266\n",
       " 304\n",
       " 482\n",
       " 462\n",
       " 485\n",
       " 202\n",
       " 409\n",
       " 342\n",
       " 225\n",
       " 227\n",
       "   ⋮\n",
       " 423\n",
       " 212\n",
       " 386\n",
       " 246\n",
       " 430\n",
       " 498\n",
       " 201\n",
       " 267\n",
       " 297\n",
       " 357\n",
       " 247\n",
       " 375"
      ]
     },
     "execution_count": 40,
     "metadata": {},
     "output_type": "execute_result"
    }
   ],
   "source": [
    "# 產生 100000 個 200 到 500 之間的數字的陣列\n",
    "x=rand(200:500,100000)"
   ]
  },
  {
   "cell_type": "markdown",
   "metadata": {},
   "source": [
    "## Insertion Sort"
   ]
  },
  {
   "cell_type": "code",
   "execution_count": 41,
   "metadata": {},
   "outputs": [
    {
     "name": "stdout",
     "output_type": "stream",
     "text": [
      "  0.000390 seconds (11 allocations: 784.172 KiB)\n"
     ]
    },
    {
     "data": {
      "text/plain": [
       "100000-element Array{Int64,1}:\n",
       " 200\n",
       " 200\n",
       " 200\n",
       " 200\n",
       " 200\n",
       " 200\n",
       " 200\n",
       " 200\n",
       " 200\n",
       " 200\n",
       " 200\n",
       " 200\n",
       " 200\n",
       "   ⋮\n",
       " 500\n",
       " 500\n",
       " 500\n",
       " 500\n",
       " 500\n",
       " 500\n",
       " 500\n",
       " 500\n",
       " 500\n",
       " 500\n",
       " 500\n",
       " 500"
      ]
     },
     "execution_count": 41,
     "metadata": {},
     "output_type": "execute_result"
    }
   ],
   "source": [
    "@time sort(x;alg=InsertionSort)"
   ]
  },
  {
   "cell_type": "markdown",
   "metadata": {},
   "source": [
    "## Merge Sort"
   ]
  },
  {
   "cell_type": "code",
   "execution_count": 42,
   "metadata": {},
   "outputs": [
    {
     "name": "stdout",
     "output_type": "stream",
     "text": [
      "  0.002590 seconds (11 allocations: 784.172 KiB)\n"
     ]
    },
    {
     "data": {
      "text/plain": [
       "100000-element Array{Int64,1}:\n",
       " 200\n",
       " 200\n",
       " 200\n",
       " 200\n",
       " 200\n",
       " 200\n",
       " 200\n",
       " 200\n",
       " 200\n",
       " 200\n",
       " 200\n",
       " 200\n",
       " 200\n",
       "   ⋮\n",
       " 500\n",
       " 500\n",
       " 500\n",
       " 500\n",
       " 500\n",
       " 500\n",
       " 500\n",
       " 500\n",
       " 500\n",
       " 500\n",
       " 500\n",
       " 500"
      ]
     },
     "execution_count": 42,
     "metadata": {},
     "output_type": "execute_result"
    }
   ],
   "source": [
    "@time sort(x;alg=MergeSort)"
   ]
  },
  {
   "cell_type": "markdown",
   "metadata": {},
   "source": [
    "## Partial Quick Sort"
   ]
  },
  {
   "cell_type": "code",
   "execution_count": 43,
   "metadata": {},
   "outputs": [
    {
     "name": "stdout",
     "output_type": "stream",
     "text": [
      "  0.000920 seconds (15 allocations: 784.234 KiB)\n"
     ]
    },
    {
     "data": {
      "text/plain": [
       "100000-element Array{Int64,1}:\n",
       " 200\n",
       " 200\n",
       " 200\n",
       " 200\n",
       " 200\n",
       " 200\n",
       " 200\n",
       " 200\n",
       " 200\n",
       " 200\n",
       " 200\n",
       " 200\n",
       " 200\n",
       "   ⋮\n",
       " 500\n",
       " 500\n",
       " 500\n",
       " 500\n",
       " 500\n",
       " 500\n",
       " 500\n",
       " 500\n",
       " 500\n",
       " 500\n",
       " 500\n",
       " 500"
      ]
     },
     "execution_count": 43,
     "metadata": {},
     "output_type": "execute_result"
    }
   ],
   "source": [
    "@time sort(x;alg=PartialQuickSort(1))"
   ]
  },
  {
   "cell_type": "code",
   "execution_count": null,
   "metadata": {},
   "outputs": [],
   "source": []
  },
  {
   "cell_type": "markdown",
   "metadata": {},
   "source": [
    "## QuickSort"
   ]
  },
  {
   "cell_type": "code",
   "execution_count": 44,
   "metadata": {},
   "outputs": [
    {
     "data": {
      "text/plain": [
       "0.001959199"
      ]
     },
     "execution_count": 44,
     "metadata": {},
     "output_type": "execute_result"
    }
   ],
   "source": [
    "@elapsed sort(x; alg=QuickSort)"
   ]
  },
  {
   "cell_type": "markdown",
   "metadata": {},
   "source": [
    "## 請問哪一種排序方法的效能最好？"
   ]
  },
  {
   "cell_type": "code",
   "execution_count": 45,
   "metadata": {},
   "outputs": [
    {
     "data": {
      "text/plain": [
       "Base.Sort.QuickSortAlg()"
      ]
     },
     "execution_count": 45,
     "metadata": {},
     "output_type": "execute_result"
    }
   ],
   "source": [
    "PartialQuickSort"
   ]
  }
 ],
 "metadata": {
  "kernelspec": {
   "display_name": "Julia 1.2.0",
   "language": "julia",
   "name": "julia-1.2"
  },
  "language_info": {
   "file_extension": ".jl",
   "mimetype": "application/julia",
   "name": "julia",
   "version": "1.2.0"
  }
 },
 "nbformat": 4,
 "nbformat_minor": 4
}
